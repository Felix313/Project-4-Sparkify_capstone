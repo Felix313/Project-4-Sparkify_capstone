{
 "cells": [
  {
   "cell_type": "markdown",
   "metadata": {},
   "source": [
    "# Sparkify Project Workspace\n",
    "This workspace contains a tiny subset (128MB) of the full dataset available (12GB). Feel free to use this workspace to build your project, or to explore a smaller subset with Spark before deploying your cluster on the cloud. Instructions for setting up your Spark cluster is included in the last lesson of the Extracurricular Spark Course content.\n",
    "\n",
    "You can follow the steps below to guide your data analysis and model building portion of this project."
   ]
  },
  {
   "cell_type": "code",
   "execution_count": 76,
   "metadata": {},
   "outputs": [],
   "source": [
    "# import libraries\n",
    "from pyspark.sql import SparkSession\n",
    "\n",
    "import pyspark.sql.functions as psqf\n",
    "from pyspark import SparkContext, SparkConf\n",
    "from pyspark.sql.functions import avg, col, min, max, sum, count, udf, lower\n",
    "\n",
    "from pyspark.ml.classification import LogisticRegression, RandomForestClassifier\n",
    "from pyspark.ml.evaluation import MulticlassClassificationEvaluator\n",
    "from pyspark.ml.feature import  StandardScaler, VectorAssembler\n",
    "from pyspark.ml.tuning import CrossValidator, ParamGridBuilder\n",
    "from pyspark.sql.types import IntegerType, FloatType\n",
    "from pyspark.mllib.evaluation import MulticlassMetrics\n",
    "from pyspark.sql import Window\n",
    "\n",
    "import matplotlib.pyplot as plt\n",
    "import pandas as pd\n",
    "import numpy as np\n",
    "import seaborn as sns"
   ]
  },
  {
   "cell_type": "code",
   "execution_count": 3,
   "metadata": {},
   "outputs": [],
   "source": [
    "# create a Spark session\n",
    "spark = SparkSession.builder \\\n",
    "    .master(\"local\") \\\n",
    "    .appName(\"Sparkify\") \\\n",
    "    .getOrCreate()"
   ]
  },
  {
   "cell_type": "markdown",
   "metadata": {},
   "source": [
    "# Load and Clean Dataset\n",
    "In this workspace, the mini-dataset file is `mini_sparkify_event_data.json`. Load and clean the dataset, checking for invalid or missing data - for example, records without userids or sessionids. "
   ]
  },
  {
   "cell_type": "code",
   "execution_count": 4,
   "metadata": {},
   "outputs": [],
   "source": [
    "sparkify_data = 'mini_sparkify_event_data.json'\n",
    "df = spark.read.json(sparkify_data)"
   ]
  },
  {
   "cell_type": "code",
   "execution_count": 170,
   "metadata": {},
   "outputs": [
    {
     "name": "stdout",
     "output_type": "stream",
     "text": [
      "root\n",
      " |-- artist: string (nullable = true)\n",
      " |-- auth: string (nullable = true)\n",
      " |-- firstName: string (nullable = true)\n",
      " |-- gender: string (nullable = true)\n",
      " |-- itemInSession: long (nullable = true)\n",
      " |-- lastName: string (nullable = true)\n",
      " |-- length: double (nullable = true)\n",
      " |-- level: string (nullable = true)\n",
      " |-- location: string (nullable = true)\n",
      " |-- method: string (nullable = true)\n",
      " |-- page: string (nullable = true)\n",
      " |-- registration: long (nullable = true)\n",
      " |-- sessionId: long (nullable = true)\n",
      " |-- song: string (nullable = true)\n",
      " |-- status: long (nullable = true)\n",
      " |-- ts: long (nullable = true)\n",
      " |-- userAgent: string (nullable = true)\n",
      " |-- userId: string (nullable = true)\n",
      "\n"
     ]
    }
   ],
   "source": [
    "df.printSchema()"
   ]
  },
  {
   "cell_type": "code",
   "execution_count": 171,
   "metadata": {},
   "outputs": [
    {
     "name": "stdout",
     "output_type": "stream",
     "text": [
      "+--------------+---------+---------+------+-------------+--------+---------+-----+---------------+------+--------+-------------+---------+---------+------+-------------+--------------------+------+\n",
      "|        artist|     auth|firstName|gender|itemInSession|lastName|   length|level|       location|method|    page| registration|sessionId|     song|status|           ts|           userAgent|userId|\n",
      "+--------------+---------+---------+------+-------------+--------+---------+-----+---------------+------+--------+-------------+---------+---------+------+-------------+--------------------+------+\n",
      "|Martha Tilston|Logged In|    Colin|     M|           50| Freeman|277.89016| paid|Bakersfield, CA|   PUT|NextSong|1538173362000|       29|Rockpools|   200|1538352117000|Mozilla/5.0 (Wind...|    30|\n",
      "+--------------+---------+---------+------+-------------+--------+---------+-----+---------------+------+--------+-------------+---------+---------+------+-------------+--------------------+------+\n",
      "only showing top 1 row\n",
      "\n"
     ]
    }
   ],
   "source": [
    "df.show(1)"
   ]
  },
  {
   "cell_type": "code",
   "execution_count": 172,
   "metadata": {},
   "outputs": [
    {
     "data": {
      "text/plain": [
       "[Row(artist='Martha Tilston', auth='Logged In', firstName='Colin', gender='M', itemInSession=50, lastName='Freeman', length=277.89016, level='paid', location='Bakersfield, CA', method='PUT', page='NextSong', registration=1538173362000, sessionId=29, song='Rockpools', status=200, ts=1538352117000, userAgent='Mozilla/5.0 (Windows NT 6.1; WOW64; rv:31.0) Gecko/20100101 Firefox/31.0', userId='30'),\n",
       " Row(artist='Five Iron Frenzy', auth='Logged In', firstName='Micah', gender='M', itemInSession=79, lastName='Long', length=236.09424, level='free', location='Boston-Cambridge-Newton, MA-NH', method='PUT', page='NextSong', registration=1538331630000, sessionId=8, song='Canada', status=200, ts=1538352180000, userAgent='\"Mozilla/5.0 (Windows NT 6.1; WOW64) AppleWebKit/537.36 (KHTML, like Gecko) Chrome/37.0.2062.103 Safari/537.36\"', userId='9'),\n",
       " Row(artist='Adam Lambert', auth='Logged In', firstName='Colin', gender='M', itemInSession=51, lastName='Freeman', length=282.8273, level='paid', location='Bakersfield, CA', method='PUT', page='NextSong', registration=1538173362000, sessionId=29, song='Time For Miracles', status=200, ts=1538352394000, userAgent='Mozilla/5.0 (Windows NT 6.1; WOW64; rv:31.0) Gecko/20100101 Firefox/31.0', userId='30'),\n",
       " Row(artist='Enigma', auth='Logged In', firstName='Micah', gender='M', itemInSession=80, lastName='Long', length=262.71302, level='free', location='Boston-Cambridge-Newton, MA-NH', method='PUT', page='NextSong', registration=1538331630000, sessionId=8, song='Knocking On Forbidden Doors', status=200, ts=1538352416000, userAgent='\"Mozilla/5.0 (Windows NT 6.1; WOW64) AppleWebKit/537.36 (KHTML, like Gecko) Chrome/37.0.2062.103 Safari/537.36\"', userId='9'),\n",
       " Row(artist='Daft Punk', auth='Logged In', firstName='Colin', gender='M', itemInSession=52, lastName='Freeman', length=223.60771, level='paid', location='Bakersfield, CA', method='PUT', page='NextSong', registration=1538173362000, sessionId=29, song='Harder Better Faster Stronger', status=200, ts=1538352676000, userAgent='Mozilla/5.0 (Windows NT 6.1; WOW64; rv:31.0) Gecko/20100101 Firefox/31.0', userId='30')]"
      ]
     },
     "execution_count": 172,
     "metadata": {},
     "output_type": "execute_result"
    }
   ],
   "source": [
    "df.take(5)"
   ]
  },
  {
   "cell_type": "code",
   "execution_count": 173,
   "metadata": {},
   "outputs": [
    {
     "data": {
      "text/plain": [
       "(286500, 18)"
      ]
     },
     "execution_count": 173,
     "metadata": {},
     "output_type": "execute_result"
    }
   ],
   "source": [
    "df.count(), len(df.columns)"
   ]
  },
  {
   "cell_type": "code",
   "execution_count": 174,
   "metadata": {},
   "outputs": [
    {
     "name": "stdout",
     "output_type": "stream",
     "text": [
      "Number of  Rows in the dataframe:286500\n",
      "Number of  columns in the dataframe:18\n",
      "columns Present in data set in the dataframe['artist', 'auth', 'firstName', 'gender', 'itemInSession', 'lastName', 'length', 'level', 'location', 'method', 'page', 'registration', 'sessionId', 'song', 'status', 'ts', 'userAgent', 'userId']\n"
     ]
    }
   ],
   "source": [
    "print(\"Number of  Rows in the dataframe:{}\".format(df.count()));\n",
    "print(\"Number of  columns in the dataframe:{}\".format(len(df.columns)));\n",
    "print(\"columns Present in data set in the dataframe{}\".format(df.columns));"
   ]
  },
  {
   "cell_type": "code",
   "execution_count": 175,
   "metadata": {},
   "outputs": [
    {
     "data": {
      "text/html": [
       "<div>\n",
       "<style scoped>\n",
       "    .dataframe tbody tr th:only-of-type {\n",
       "        vertical-align: middle;\n",
       "    }\n",
       "\n",
       "    .dataframe tbody tr th {\n",
       "        vertical-align: top;\n",
       "    }\n",
       "\n",
       "    .dataframe thead th {\n",
       "        text-align: right;\n",
       "    }\n",
       "</style>\n",
       "<table border=\"1\" class=\"dataframe\">\n",
       "  <thead>\n",
       "    <tr style=\"text-align: right;\">\n",
       "      <th></th>\n",
       "      <th>0</th>\n",
       "      <th>1</th>\n",
       "      <th>2</th>\n",
       "      <th>3</th>\n",
       "      <th>4</th>\n",
       "    </tr>\n",
       "  </thead>\n",
       "  <tbody>\n",
       "    <tr>\n",
       "      <th>summary</th>\n",
       "      <td>count</td>\n",
       "      <td>mean</td>\n",
       "      <td>stddev</td>\n",
       "      <td>min</td>\n",
       "      <td>max</td>\n",
       "    </tr>\n",
       "    <tr>\n",
       "      <th>artist</th>\n",
       "      <td>228108</td>\n",
       "      <td>551.0852017937219</td>\n",
       "      <td>1217.7693079161374</td>\n",
       "      <td>!!!</td>\n",
       "      <td>ÃÂlafur Arnalds</td>\n",
       "    </tr>\n",
       "    <tr>\n",
       "      <th>auth</th>\n",
       "      <td>286500</td>\n",
       "      <td>None</td>\n",
       "      <td>None</td>\n",
       "      <td>Cancelled</td>\n",
       "      <td>Logged Out</td>\n",
       "    </tr>\n",
       "    <tr>\n",
       "      <th>firstName</th>\n",
       "      <td>278154</td>\n",
       "      <td>None</td>\n",
       "      <td>None</td>\n",
       "      <td>Adelaida</td>\n",
       "      <td>Zyonna</td>\n",
       "    </tr>\n",
       "    <tr>\n",
       "      <th>gender</th>\n",
       "      <td>278154</td>\n",
       "      <td>None</td>\n",
       "      <td>None</td>\n",
       "      <td>F</td>\n",
       "      <td>M</td>\n",
       "    </tr>\n",
       "    <tr>\n",
       "      <th>itemInSession</th>\n",
       "      <td>286500</td>\n",
       "      <td>114.41421291448516</td>\n",
       "      <td>129.76726201140994</td>\n",
       "      <td>0</td>\n",
       "      <td>1321</td>\n",
       "    </tr>\n",
       "    <tr>\n",
       "      <th>lastName</th>\n",
       "      <td>278154</td>\n",
       "      <td>None</td>\n",
       "      <td>None</td>\n",
       "      <td>Adams</td>\n",
       "      <td>Wright</td>\n",
       "    </tr>\n",
       "    <tr>\n",
       "      <th>length</th>\n",
       "      <td>228108</td>\n",
       "      <td>249.1171819778458</td>\n",
       "      <td>99.23517921058361</td>\n",
       "      <td>0.78322</td>\n",
       "      <td>3024.66567</td>\n",
       "    </tr>\n",
       "    <tr>\n",
       "      <th>level</th>\n",
       "      <td>286500</td>\n",
       "      <td>None</td>\n",
       "      <td>None</td>\n",
       "      <td>free</td>\n",
       "      <td>paid</td>\n",
       "    </tr>\n",
       "    <tr>\n",
       "      <th>location</th>\n",
       "      <td>278154</td>\n",
       "      <td>None</td>\n",
       "      <td>None</td>\n",
       "      <td>Albany, OR</td>\n",
       "      <td>Winston-Salem, NC</td>\n",
       "    </tr>\n",
       "    <tr>\n",
       "      <th>method</th>\n",
       "      <td>286500</td>\n",
       "      <td>None</td>\n",
       "      <td>None</td>\n",
       "      <td>GET</td>\n",
       "      <td>PUT</td>\n",
       "    </tr>\n",
       "    <tr>\n",
       "      <th>page</th>\n",
       "      <td>286500</td>\n",
       "      <td>None</td>\n",
       "      <td>None</td>\n",
       "      <td>About</td>\n",
       "      <td>Upgrade</td>\n",
       "    </tr>\n",
       "    <tr>\n",
       "      <th>registration</th>\n",
       "      <td>278154</td>\n",
       "      <td>1.5353588340844272E12</td>\n",
       "      <td>3.291321616327586E9</td>\n",
       "      <td>1521380675000</td>\n",
       "      <td>1543247354000</td>\n",
       "    </tr>\n",
       "    <tr>\n",
       "      <th>sessionId</th>\n",
       "      <td>286500</td>\n",
       "      <td>1041.526554973822</td>\n",
       "      <td>726.7762634630741</td>\n",
       "      <td>1</td>\n",
       "      <td>2474</td>\n",
       "    </tr>\n",
       "    <tr>\n",
       "      <th>song</th>\n",
       "      <td>228108</td>\n",
       "      <td>Infinity</td>\n",
       "      <td>NaN</td>\n",
       "      <td>ÃÂg ÃÂtti GrÃÂ¡a ÃÂsku</td>\n",
       "      <td>ÃÂau hafa sloppiÃÂ° undan ÃÂ¾unga myrkursins</td>\n",
       "    </tr>\n",
       "    <tr>\n",
       "      <th>status</th>\n",
       "      <td>286500</td>\n",
       "      <td>210.05459685863875</td>\n",
       "      <td>31.50507848842214</td>\n",
       "      <td>200</td>\n",
       "      <td>404</td>\n",
       "    </tr>\n",
       "    <tr>\n",
       "      <th>ts</th>\n",
       "      <td>286500</td>\n",
       "      <td>1.5409568898104834E12</td>\n",
       "      <td>1.5075439608226302E9</td>\n",
       "      <td>1538352117000</td>\n",
       "      <td>1543799476000</td>\n",
       "    </tr>\n",
       "    <tr>\n",
       "      <th>userAgent</th>\n",
       "      <td>278154</td>\n",
       "      <td>None</td>\n",
       "      <td>None</td>\n",
       "      <td>\"Mozilla/5.0 (Macintosh; Intel Mac OS X 10_10)...</td>\n",
       "      <td>Mozilla/5.0 (compatible; MSIE 9.0; Windows NT ...</td>\n",
       "    </tr>\n",
       "    <tr>\n",
       "      <th>userId</th>\n",
       "      <td>286500</td>\n",
       "      <td>59682.02278593872</td>\n",
       "      <td>109091.9499991047</td>\n",
       "      <td></td>\n",
       "      <td>99</td>\n",
       "    </tr>\n",
       "  </tbody>\n",
       "</table>\n",
       "</div>"
      ],
      "text/plain": [
       "                    0                      1                     2  \\\n",
       "summary         count                   mean                stddev   \n",
       "artist         228108      551.0852017937219    1217.7693079161374   \n",
       "auth           286500                   None                  None   \n",
       "firstName      278154                   None                  None   \n",
       "gender         278154                   None                  None   \n",
       "itemInSession  286500     114.41421291448516    129.76726201140994   \n",
       "lastName       278154                   None                  None   \n",
       "length         228108      249.1171819778458     99.23517921058361   \n",
       "level          286500                   None                  None   \n",
       "location       278154                   None                  None   \n",
       "method         286500                   None                  None   \n",
       "page           286500                   None                  None   \n",
       "registration   278154  1.5353588340844272E12   3.291321616327586E9   \n",
       "sessionId      286500      1041.526554973822     726.7762634630741   \n",
       "song           228108               Infinity                   NaN   \n",
       "status         286500     210.05459685863875     31.50507848842214   \n",
       "ts             286500  1.5409568898104834E12  1.5075439608226302E9   \n",
       "userAgent      278154                   None                  None   \n",
       "userId         286500      59682.02278593872     109091.9499991047   \n",
       "\n",
       "                                                               3  \\\n",
       "summary                                                      min   \n",
       "artist                                                       !!!   \n",
       "auth                                                   Cancelled   \n",
       "firstName                                               Adelaida   \n",
       "gender                                                         F   \n",
       "itemInSession                                                  0   \n",
       "lastName                                                   Adams   \n",
       "length                                                   0.78322   \n",
       "level                                                       free   \n",
       "location                                              Albany, OR   \n",
       "method                                                       GET   \n",
       "page                                                       About   \n",
       "registration                                       1521380675000   \n",
       "sessionId                                                      1   \n",
       "song                              \n",
       "ÃÂg ÃÂtti GrÃÂ¡a ÃÂsku   \n",
       "status                                                       200   \n",
       "ts                                                 1538352117000   \n",
       "userAgent      \"Mozilla/5.0 (Macintosh; Intel Mac OS X 10_10)...   \n",
       "userId                                                             \n",
       "\n",
       "                                                               4  \n",
       "summary                                                      max  \n",
       "artist                                         ÃÂlafur Arnalds  \n",
       "auth                                                  Logged Out  \n",
       "firstName                                                 Zyonna  \n",
       "gender                                                         M  \n",
       "itemInSession                                               1321  \n",
       "lastName                                                  Wright  \n",
       "length                                                3024.66567  \n",
       "level                                                       paid  \n",
       "location                                       Winston-Salem, NC  \n",
       "method                                                       PUT  \n",
       "page                                                     Upgrade  \n",
       "registration                                       1543247354000  \n",
       "sessionId                                                   2474  \n",
       "song            ÃÂau hafa sloppiÃÂ° undan ÃÂ¾unga myrkursins  \n",
       "status                                                       404  \n",
       "ts                                                 1543799476000  \n",
       "userAgent      Mozilla/5.0 (compatible; MSIE 9.0; Windows NT ...  \n",
       "userId                                                        99  "
      ]
     },
     "execution_count": 175,
     "metadata": {},
     "output_type": "execute_result"
    }
   ],
   "source": [
    "#discribing all the columns in dataframe\n",
    "df.describe().toPandas().transpose()"
   ]
  },
  {
   "cell_type": "code",
   "execution_count": 176,
   "metadata": {},
   "outputs": [
    {
     "name": "stdout",
     "output_type": "stream",
     "text": [
      "+------+----+---------+------+-------------+--------+------+-----+--------+------+----+------------+---------+-----+------+---+---------+------+\n",
      "|artist|auth|firstName|gender|itemInSession|lastName|length|level|location|method|page|registration|sessionId| song|status| ts|userAgent|userId|\n",
      "+------+----+---------+------+-------------+--------+------+-----+--------+------+----+------------+---------+-----+------+---+---------+------+\n",
      "| 58392|   0|     8346|  8346|            0|    8346| 58392|    0|    8346|     0|   0|        8346|        0|58392|     0|  0|     8346|     0|\n",
      "+------+----+---------+------+-------------+--------+------+-----+--------+------+----+------------+---------+-----+------+---+---------+------+\n",
      "\n"
     ]
    }
   ],
   "source": [
    "#check for number of null values in each column:\n",
    "\n",
    "df.select([psqf.count(psqf.when(psqf.isnull(c), c)).alias(c) for c in df.columns]).show()"
   ]
  },
  {
   "cell_type": "code",
   "execution_count": 177,
   "metadata": {},
   "outputs": [
    {
     "name": "stdout",
     "output_type": "stream",
     "text": [
      "+------+\n",
      "|userId|\n",
      "+------+\n",
      "|      |\n",
      "|    10|\n",
      "|   100|\n",
      "|100001|\n",
      "|100002|\n",
      "|100003|\n",
      "|100004|\n",
      "|100005|\n",
      "|100006|\n",
      "|100007|\n",
      "|100008|\n",
      "|100009|\n",
      "|100010|\n",
      "|100011|\n",
      "|100012|\n",
      "|100013|\n",
      "|100014|\n",
      "|100015|\n",
      "|100016|\n",
      "|100017|\n",
      "+------+\n",
      "only showing top 20 rows\n",
      "\n"
     ]
    }
   ],
   "source": [
    "#check for false (\"null\") user IDs\n",
    "df.select(\"userId\").dropDuplicates().sort(\"userId\").show()"
   ]
  },
  {
   "cell_type": "code",
   "execution_count": 178,
   "metadata": {},
   "outputs": [],
   "source": [
    "# drop empty userIds\n",
    "users_not_empty = df.filter(df[\"userId\"] != \"\")"
   ]
  },
  {
   "cell_type": "code",
   "execution_count": 179,
   "metadata": {},
   "outputs": [
    {
     "data": {
      "text/plain": [
       "8346"
      ]
     },
     "execution_count": 179,
     "metadata": {},
     "output_type": "execute_result"
    }
   ],
   "source": [
    "#difference matches number of null values as it should:\n",
    "df.count() - users_not_empty.count()"
   ]
  },
  {
   "cell_type": "code",
   "execution_count": 180,
   "metadata": {},
   "outputs": [],
   "source": [
    "### preliminary analysis"
   ]
  },
  {
   "cell_type": "code",
   "execution_count": 181,
   "metadata": {},
   "outputs": [
    {
     "name": "stdout",
     "output_type": "stream",
     "text": [
      "Number of users in dataset: 225\n"
     ]
    }
   ],
   "source": [
    "#check for number of users in the dataset:\n",
    "num_users = users_not_empty.select(\"userId\").distinct().count()\n",
    "print(\"Number of users in dataset: {}\".format(num_users))"
   ]
  },
  {
   "cell_type": "code",
   "execution_count": 182,
   "metadata": {},
   "outputs": [
    {
     "name": "stdout",
     "output_type": "stream",
     "text": [
      "+-------+------------------+\n",
      "|summary|         sessionId|\n",
      "+-------+------------------+\n",
      "|  count|            278154|\n",
      "|   mean|1042.5616241362698|\n",
      "| stddev| 726.5010362219813|\n",
      "|    min|                 1|\n",
      "|    max|              2474|\n",
      "+-------+------------------+\n",
      "\n"
     ]
    }
   ],
   "source": [
    "users_not_empty.describe(\"sessionId\").show()"
   ]
  },
  {
   "cell_type": "code",
   "execution_count": 183,
   "metadata": {},
   "outputs": [
    {
     "name": "stdout",
     "output_type": "stream",
     "text": [
      "+-----+\n",
      "|level|\n",
      "+-----+\n",
      "| free|\n",
      "| paid|\n",
      "+-----+\n",
      "\n"
     ]
    }
   ],
   "source": [
    "# check values of level (might be useful for churn definition):\n",
    "users_not_empty.select(\"level\").distinct().show()"
   ]
  },
  {
   "cell_type": "code",
   "execution_count": 184,
   "metadata": {
    "scrolled": true
   },
   "outputs": [
    {
     "name": "stdout",
     "output_type": "stream",
     "text": [
      "+--------------------+-----------+\n",
      "|                page|count(page)|\n",
      "+--------------------+-----------+\n",
      "|              Cancel|         52|\n",
      "|Cancellation Conf...|         52|\n",
      "|    Submit Downgrade|         63|\n",
      "|      Submit Upgrade|        159|\n",
      "|               Error|        252|\n",
      "|       Save Settings|        310|\n",
      "|               About|        495|\n",
      "|             Upgrade|        499|\n",
      "|                Help|       1454|\n",
      "|            Settings|       1514|\n",
      "|           Downgrade|       2055|\n",
      "|         Thumbs Down|       2546|\n",
      "|              Logout|       3226|\n",
      "|         Roll Advert|       3933|\n",
      "|          Add Friend|       4277|\n",
      "|     Add to Playlist|       6526|\n",
      "|                Home|      10082|\n",
      "|           Thumbs Up|      12551|\n",
      "|            NextSong|     228108|\n",
      "+--------------------+-----------+\n",
      "\n"
     ]
    }
   ],
   "source": [
    "#checkout how often each \"page\" is visited:\n",
    "users_not_empty.groupby('page').agg({'page':'count'}).sort(\"count(page)\").show()"
   ]
  },
  {
   "cell_type": "code",
   "execution_count": 185,
   "metadata": {},
   "outputs": [],
   "source": [
    "#We can already see that there is only a small amount of cancleations (52) in our dataset. 63 have downgraded."
   ]
  },
  {
   "cell_type": "code",
   "execution_count": 186,
   "metadata": {},
   "outputs": [
    {
     "name": "stdout",
     "output_type": "stream",
     "text": [
      "+-------+-----------------+\n",
      "|summary|            count|\n",
      "+-------+-----------------+\n",
      "|  count|              225|\n",
      "|   mean|          1236.24|\n",
      "| stddev|1329.531716432519|\n",
      "|    min|                6|\n",
      "|    max|             9632|\n",
      "+-------+-----------------+\n",
      "\n"
     ]
    }
   ],
   "source": [
    "#check statistics on the logs we have about our users:\n",
    "users_not_empty.groupby(\"userId\").count().describe(\"count\").show()"
   ]
  },
  {
   "cell_type": "code",
   "execution_count": 187,
   "metadata": {},
   "outputs": [
    {
     "name": "stdout",
     "output_type": "stream",
     "text": [
      "+-------+------------------+\n",
      "|summary|         sessionId|\n",
      "+-------+------------------+\n",
      "|  count|            278154|\n",
      "|   mean|1042.5616241362698|\n",
      "| stddev| 726.5010362219813|\n",
      "|    min|                 1|\n",
      "|    max|              2474|\n",
      "+-------+------------------+\n",
      "\n"
     ]
    }
   ],
   "source": [
    "#same for sessionID:\n",
    "users_not_empty.describe(\"sessionId\").show()"
   ]
  },
  {
   "cell_type": "markdown",
   "metadata": {},
   "source": [
    "## Define Churn\n",
    "The page \"Cancellation Confirmation\" seems appropriate as a first identifier for customers who might have churned (see code below).\n",
    "We will add a column flagging customers who churned using the following user defined function:"
   ]
  },
  {
   "cell_type": "code",
   "execution_count": 188,
   "metadata": {},
   "outputs": [],
   "source": [
    "#create churn flag:\n",
    "churn_event_def = udf(lambda x: 1 if x == \"Cancellation Confirmation\" else 0, IntegerType())\n",
    "#add col to our df:\n",
    "users_not_empty = users_not_empty.withColumn(\"churned\", churn_event_def(\"page\"))\n",
    "#defining window:\n",
    "windowval = Window.partitionBy(\"userId\").rangeBetween(Window.unboundedPreceding, Window.unboundedFollowing)\n",
    "# applying window:\n",
    "users_not_empty = users_not_empty.withColumn(\"churned\", sum(\"churned\").over(windowval))\n"
   ]
  },
  {
   "cell_type": "markdown",
   "metadata": {},
   "source": [
    "## Explore Data"
   ]
  },
  {
   "cell_type": "code",
   "execution_count": 189,
   "metadata": {},
   "outputs": [
    {
     "name": "stdout",
     "output_type": "stream",
     "text": [
      "+------+------------+\n",
      "|userId|user_churned|\n",
      "+------+------------+\n",
      "|100010|           0|\n",
      "|200002|           0|\n",
      "|   125|           1|\n",
      "|   124|           0|\n",
      "|    51|           1|\n",
      "|     7|           0|\n",
      "|    15|           0|\n",
      "|    54|           1|\n",
      "|   155|           0|\n",
      "|100014|           1|\n",
      "|   132|           0|\n",
      "|   154|           0|\n",
      "|   101|           1|\n",
      "|    11|           0|\n",
      "|   138|           0|\n",
      "|300017|           0|\n",
      "|100021|           1|\n",
      "|    29|           1|\n",
      "|    69|           0|\n",
      "|   112|           0|\n",
      "+------+------------+\n",
      "only showing top 20 rows\n",
      "\n"
     ]
    }
   ],
   "source": [
    "# create df of users with churn = true:\n",
    "user_churned = users_not_empty.groupBy('userId').agg(max('churned').alias(\"user_churned\"))\n",
    "user_churned.show()"
   ]
  },
  {
   "cell_type": "code",
   "execution_count": 190,
   "metadata": {
    "scrolled": true
   },
   "outputs": [
    {
     "data": {
      "text/plain": [
       "<matplotlib.figure.Figure at 0x7f450ee448d0>"
      ]
     },
     "metadata": {},
     "output_type": "display_data"
    },
    {
     "data": {
      "image/png": "[encoded data removed]",
      "text/plain": [
       "<matplotlib.figure.Figure at 0x7f4520a99da0>"
      ]
     },
     "metadata": {
      "needs_background": "light"
     },
     "output_type": "display_data"
    }
   ],
   "source": [
    "# creat boxplot showing how many % of our useres churned:\n",
    "churn_count = user_churned.groupby('user_churned').count().toPandas().set_index('user_churned').sort_index()\n",
    "plt.figure()\n",
    "(churn_count/churn_count.sum()).plot.bar(legend=None)\n",
    "labels = ['Active User', 'Churned User']\n",
    "x_pos = np.arange(len(labels))\n",
    "plt.xticks(x_pos,labels)\n",
    "plt.title('Percentage of users by Subscription status')\n",
    "plt.ylabel('Percentage of users')\n",
    "plt.show()"
   ]
  },
  {
   "cell_type": "code",
   "execution_count": 191,
   "metadata": {},
   "outputs": [
    {
     "data": {
      "text/html": [
       "<div>\n",
       "<style scoped>\n",
       "    .dataframe tbody tr th:only-of-type {\n",
       "        vertical-align: middle;\n",
       "    }\n",
       "\n",
       "    .dataframe tbody tr th {\n",
       "        vertical-align: top;\n",
       "    }\n",
       "\n",
       "    .dataframe thead th {\n",
       "        text-align: right;\n",
       "    }\n",
       "</style>\n",
       "<table border=\"1\" class=\"dataframe\">\n",
       "  <thead>\n",
       "    <tr style=\"text-align: right;\">\n",
       "      <th></th>\n",
       "      <th>count</th>\n",
       "    </tr>\n",
       "    <tr>\n",
       "      <th>user_churned</th>\n",
       "      <th></th>\n",
       "    </tr>\n",
       "  </thead>\n",
       "  <tbody>\n",
       "    <tr>\n",
       "      <th>0</th>\n",
       "      <td>173</td>\n",
       "    </tr>\n",
       "    <tr>\n",
       "      <th>1</th>\n",
       "      <td>52</td>\n",
       "    </tr>\n",
       "  </tbody>\n",
       "</table>\n",
       "</div>"
      ],
      "text/plain": [
       "              count\n",
       "user_churned       \n",
       "0               173\n",
       "1                52"
      ]
     },
     "execution_count": 191,
     "metadata": {},
     "output_type": "execute_result"
    }
   ],
   "source": [
    "#total churned vs active customers:\n",
    "churn_count"
   ]
  },
  {
   "cell_type": "code",
   "execution_count": 192,
   "metadata": {},
   "outputs": [],
   "source": [
    "# Joining subscription status to the original data frame to analyze potential features\n",
    "users_not_empty = users_not_empty.join(user_churned, on=['userId'], how='left')"
   ]
  },
  {
   "cell_type": "code",
   "execution_count": 193,
   "metadata": {},
   "outputs": [
    {
     "data": {
      "text/plain": [
       "Row(userId='100010', artist='Sleeping With Sirens', auth='Logged In', firstName='Darianna', gender='F', itemInSession=0, lastName='Carpenter', length=202.97098, level='free', location='Bridgeport-Stamford-Norwalk, CT', method='PUT', page='NextSong', registration=1538016340000, sessionId=31, song='Captain Tyin Knots VS Mr Walkway (No Way)', status=200, ts=1539003534000, userAgent='\"Mozilla/5.0 (iPhone; CPU iPhone OS 7_1_2 like Mac OS X) AppleWebKit/537.51.2 (KHTML, like Gecko) Version/7.0 Mobile/11D257 Safari/9537.53\"', churned=0, user_churned=0)"
      ]
     },
     "execution_count": 193,
     "metadata": {},
     "output_type": "execute_result"
    }
   ],
   "source": [
    "users_not_empty.head()"
   ]
  },
  {
   "cell_type": "markdown",
   "metadata": {},
   "source": [
    "#### Comparing churned and active users by page events"
   ]
  },
  {
   "cell_type": "code",
   "execution_count": 194,
   "metadata": {
    "scrolled": false
   },
   "outputs": [
    {
     "name": "stdout",
     "output_type": "stream",
     "text": [
      "+--------------------+------+\n",
      "|                page| count|\n",
      "+--------------------+------+\n",
      "|              Cancel|    52|\n",
      "|Cancellation Conf...|    52|\n",
      "|    Submit Downgrade|    63|\n",
      "|      Submit Upgrade|   159|\n",
      "|               Error|   252|\n",
      "|       Save Settings|   310|\n",
      "|               About|   495|\n",
      "|             Upgrade|   499|\n",
      "|                Help|  1454|\n",
      "|            Settings|  1514|\n",
      "|           Downgrade|  2055|\n",
      "|         Thumbs Down|  2546|\n",
      "|              Logout|  3226|\n",
      "|         Roll Advert|  3933|\n",
      "|          Add Friend|  4277|\n",
      "|     Add to Playlist|  6526|\n",
      "|                Home| 10082|\n",
      "|           Thumbs Up| 12551|\n",
      "|            NextSong|228108|\n",
      "+--------------------+------+\n",
      "\n"
     ]
    }
   ],
   "source": [
    "#checking the count of each page again\n",
    "users_not_empty.groupby(['page']).count().orderBy('count').show()"
   ]
  },
  {
   "cell_type": "code",
   "execution_count": 210,
   "metadata": {
    "scrolled": true
   },
   "outputs": [],
   "source": [
    "#grouping by page and user churned / user not churned \n",
    "#to see if there is a difference in behaviour between the two subgroups\n",
    "churn_page_counter = users_not_empty.groupby(['page','user_churned']).count().toPandas()"
   ]
  },
  {
   "cell_type": "code",
   "execution_count": 211,
   "metadata": {
    "scrolled": false
   },
   "outputs": [],
   "source": [
    "considered_pages = churn_page_counter.page.tolist()\n",
    "churn_page_counter = users_not_empty.groupby(['page','user_churned']).count().toPandas()\n",
    "# NextSong is by far the largest value, so we delete it before calculating sum of the rest\n",
    "churn_sub_counter = churn_page_counter[~churn_page_counter.page.isin(['NextSong','Cancellation Confirmation','Cancel'])]\n",
    "# get thea sum of all pages but NextSong\n",
    "total_pages = churn_sub_counter.groupby(['user_churned']).sum()\n",
    "# filter for pages we might want to use as potential features\n",
    "churn_sub_counter = churn_sub_counter[churn_sub_counter.page.isin(considered_pages)]\n",
    "churn_sub_counter = (churn_sub_counter.set_index(['page', 'user_churned']) / total_pages).reset_index()\n",
    "churn_sub_counter['user_churned'] = churn_sub_counter['user_churned'].replace({0:'No', 1: 'Yes'})"
   ]
  },
  {
   "cell_type": "code",
   "execution_count": 212,
   "metadata": {
    "scrolled": false
   },
   "outputs": [
    {
     "data": {
      "text/plain": [
       "Text(0.5,0,'Percentage of Events')"
      ]
     },
     "execution_count": 212,
     "metadata": {},
     "output_type": "execute_result"
    },
    {
     "data": {
      "image/png": "[encoded data removed]",
      "text/plain": [
       "<matplotlib.figure.Figure at 0x7f450e4d9a58>"
      ]
     },
     "metadata": {
      "needs_background": "light"
     },
     "output_type": "display_data"
    }
   ],
   "source": [
    "plt.figure(figsize=(6,6))\n",
    "sns.barplot(y = 'page', x = 'count', data = churn_sub_counter, hue = 'user_churned')\n",
    "plt.title('Percentage of events by Subscription status')\n",
    "plt.ylabel('Events')\n",
    "plt.xlabel('Percentage of Events')"
   ]
  },
  {
   "cell_type": "code",
   "execution_count": 213,
   "metadata": {},
   "outputs": [],
   "source": [
    "#same visualization for NextPage:\n",
    "churn_NextSong_counter = churn_page_counter.loc[churn_page_counter.page == 'NextSong']\n",
    "total_NextSong = churn_NextSong_counter['count'].sum()\n",
    "churn_NextSong_counter = (churn_NextSong_counter.set_index(['page', 'user_churned']) / total_NextSong).reset_index()\n",
    "churn_NextSong_counter['user_churned'] = churn_NextSong_counter['user_churned'].replace({0:'No', 1: 'Yes'})\n",
    "churn_NextSong_counter = churn_NextSong_counter.sort_values(by=['count'], ascending = False)"
   ]
  },
  {
   "cell_type": "code",
   "execution_count": 214,
   "metadata": {},
   "outputs": [
    {
     "data": {
      "text/plain": [
       "Text(0.5,0,'Percentage of Events')"
      ]
     },
     "execution_count": 214,
     "metadata": {},
     "output_type": "execute_result"
    },
    {
     "data": {
      "image/png": "[encoded data removed]",
      "text/plain": [
       "<matplotlib.figure.Figure at 0x7f450e496c50>"
      ]
     },
     "metadata": {
      "needs_background": "light"
     },
     "output_type": "display_data"
    }
   ],
   "source": [
    "plt.figure(figsize=(6,6))\n",
    "sns.barplot(y = 'page', x = 'count', data = churn_NextSong_counter, hue = 'user_churned')\n",
    "plt.title('Percentage of events by Subscription status')\n",
    "plt.ylabel('')\n",
    "plt.xlabel('Percentage of Events')"
   ]
  },
  {
   "cell_type": "markdown",
   "metadata": {},
   "source": [
    "Still subscribed users engange more with the pages that have a posivie Sparkify sentiment.\n",
    "Those users use the NextSong page alot more and give more thumbs up, add more friends and also add more songs to playlists. It seems to contradict that they upgrade less and downgrade more. However, differences in the counts are small and the total count for those pages is low. \n",
    "\n",
    "Users who churned give more thumbs down and have seen the roll advert page significantly more often."
   ]
  },
  {
   "cell_type": "code",
   "execution_count": 215,
   "metadata": {},
   "outputs": [],
   "source": [
    "#let's follow up on the significant difference in the NextSong page and see \n",
    "#how much time users in our groups (churned / not churned) spend on Sparkify. \n",
    "#As an indicator we'll use the amount of songs listened to per user:\n",
    "\n",
    "songs_per_user = users_not_empty.filter(users_not_empty['song'].isNotNull()).select('userId', 'song').groupby('userId').count()\n",
    "songs_per_user = songs_per_user.join(user_churned, on=['userId'], how='left')\n",
    "sns_songs_per_user = songs_per_user.toPandas()\n",
    "sns_songs_per_user['user_churned']=sns_songs_per_user['user_churned'].replace({0:'Active', 1: 'Churned'})"
   ]
  },
  {
   "cell_type": "code",
   "execution_count": 216,
   "metadata": {
    "scrolled": true
   },
   "outputs": [
    {
     "data": {
      "text/plain": [
       "Text(0.5,0,'')"
      ]
     },
     "execution_count": 216,
     "metadata": {},
     "output_type": "execute_result"
    },
    {
     "data": {
      "image/png": "[encoded data removed]",
      "text/plain": [
       "<matplotlib.figure.Figure at 0x7f450e413eb8>"
      ]
     },
     "metadata": {
      "needs_background": "light"
     },
     "output_type": "display_data"
    }
   ],
   "source": [
    "#visualize the distribution of the songs data:\n",
    "sns.despine(left=True)\n",
    "ax = sns.violinplot(data=sns_songs_per_user, x=\"user_churned\", y=\"count\",\n",
    "               split=True, inner=\"quart\", linewidth=1)\n",
    "ax.set_title('Distribution: Number of Songs per Usergroup')\n",
    "ax.set_ylabel('Number of Songs listened to')\n",
    "ax.set_xlabel('')"
   ]
  },
  {
   "cell_type": "code",
   "execution_count": 217,
   "metadata": {
    "scrolled": false
   },
   "outputs": [],
   "source": [
    "avg_listens_per_group = songs_per_user.select('count', 'user_churned').groupby('user_churned').agg(avg('count').alias('avg_listens_per_group'))\n",
    "avg_listens_per_group = avg_listens_per_group.toPandas().set_index('user_churned').sort_index()"
   ]
  },
  {
   "cell_type": "code",
   "execution_count": 218,
   "metadata": {},
   "outputs": [
    {
     "data": {
      "text/html": [
       "<div>\n",
       "<style scoped>\n",
       "    .dataframe tbody tr th:only-of-type {\n",
       "        vertical-align: middle;\n",
       "    }\n",
       "\n",
       "    .dataframe tbody tr th {\n",
       "        vertical-align: top;\n",
       "    }\n",
       "\n",
       "    .dataframe thead th {\n",
       "        text-align: right;\n",
       "    }\n",
       "</style>\n",
       "<table border=\"1\" class=\"dataframe\">\n",
       "  <thead>\n",
       "    <tr style=\"text-align: right;\">\n",
       "      <th></th>\n",
       "      <th>avg_listens_per_group</th>\n",
       "    </tr>\n",
       "    <tr>\n",
       "      <th>user_churned</th>\n",
       "      <th></th>\n",
       "    </tr>\n",
       "  </thead>\n",
       "  <tbody>\n",
       "    <tr>\n",
       "      <th>0</th>\n",
       "      <td>1108.173410</td>\n",
       "    </tr>\n",
       "    <tr>\n",
       "      <th>1</th>\n",
       "      <td>699.884615</td>\n",
       "    </tr>\n",
       "  </tbody>\n",
       "</table>\n",
       "</div>"
      ],
      "text/plain": [
       "              avg_listens_per_group\n",
       "user_churned                       \n",
       "0                       1108.173410\n",
       "1                        699.884615"
      ]
     },
     "execution_count": 218,
     "metadata": {},
     "output_type": "execute_result"
    }
   ],
   "source": [
    "avg_listens_per_group"
   ]
  },
  {
   "cell_type": "markdown",
   "metadata": {},
   "source": [
    "Active users do show more listening time on average. However, there are some outliers raising the average which we need to keep in mind."
   ]
  },
  {
   "cell_type": "code",
   "execution_count": 219,
   "metadata": {},
   "outputs": [
    {
     "data": {
      "text/plain": [
       "<pyspark.sql.group.GroupedData at 0x7f450e32f940>"
      ]
     },
     "execution_count": 219,
     "metadata": {},
     "output_type": "execute_result"
    }
   ],
   "source": [
    "users_not_empty.filter(users_not_empty['artist'].isNotNull()).select('userId', 'artist').groupby('userId')"
   ]
  },
  {
   "cell_type": "code",
   "execution_count": 220,
   "metadata": {},
   "outputs": [
    {
     "name": "stdout",
     "output_type": "stream",
     "text": [
      "+--------------------+\n",
      "|              artist|\n",
      "+--------------------+\n",
      "|Sleeping With Sirens|\n",
      "|Francesca Battist...|\n",
      "|              Brutha|\n",
      "|                null|\n",
      "|         Josh Ritter|\n",
      "|               LMFAO|\n",
      "|         OneRepublic|\n",
      "|       Dwight Yoakam|\n",
      "|                null|\n",
      "|      The Chordettes|\n",
      "|Coko featuring Ki...|\n",
      "|            The Cure|\n",
      "|                null|\n",
      "|Kid Cudi Vs Crookers|\n",
      "|                null|\n",
      "|            Yeasayer|\n",
      "|             Ben Lee|\n",
      "|                null|\n",
      "|  ? & The Mysterians|\n",
      "|                null|\n",
      "+--------------------+\n",
      "only showing top 20 rows\n",
      "\n"
     ]
    }
   ],
   "source": [
    "users_not_empty.select('artist').show()"
   ]
  },
  {
   "cell_type": "code",
   "execution_count": 221,
   "metadata": {},
   "outputs": [],
   "source": [
    "artists_per_user = users_not_empty.filter(users_not_empty['artist'].isNotNull()).select('userId', lower(col('artist'))).dropDuplicates().groupby('userId').count()\n",
    "artists_per_user = artists_per_user.join(user_churned, on=['userId'], how='left')\n",
    "sns_artists_per_user = artists_per_user.toPandas()\n",
    "sns_artists_per_user['user_churned']=sns_artists_per_user['user_churned'].replace({0:'Active', 1: 'Churned'})"
   ]
  },
  {
   "cell_type": "code",
   "execution_count": 222,
   "metadata": {},
   "outputs": [
    {
     "data": {
      "text/plain": [
       "Text(0.5,0,'')"
      ]
     },
     "execution_count": 222,
     "metadata": {},
     "output_type": "execute_result"
    },
    {
     "data": {
      "image/png": "[encoded data removed]",
      "text/plain": [
       "<matplotlib.figure.Figure at 0x7f450eba98d0>"
      ]
     },
     "metadata": {
      "needs_background": "light"
     },
     "output_type": "display_data"
    }
   ],
   "source": [
    "#visualize the distribution of the songs data:\n",
    "sns.despine(left=True)\n",
    "ax = sns.violinplot(data=sns_artists_per_user, x=\"user_churned\", y=\"count\",\n",
    "               split=True, inner=\"quart\", linewidth=1)\n",
    "ax.set_title('Distribution: Number of Artists per Usergroup')\n",
    "ax.set_ylabel('Number of Artists listened to')\n",
    "ax.set_xlabel('')"
   ]
  },
  {
   "cell_type": "code",
   "execution_count": 223,
   "metadata": {
    "scrolled": false
   },
   "outputs": [
    {
     "name": "stdout",
     "output_type": "stream",
     "text": [
      "+-------+----------------+\n",
      "|churned|artists_listened|\n",
      "+-------+----------------+\n",
      "|      0|          129713|\n",
      "|      1|           26972|\n",
      "+-------+----------------+\n",
      "\n"
     ]
    }
   ],
   "source": [
    "users_not_empty.filter(users_not_empty.page == 'NextSong').select('userId', lower(col('artist')),'churned').dropDuplicates().groupBy('churned').agg(count('lower(artist)').alias('artists_listened')).show()"
   ]
  },
  {
   "cell_type": "markdown",
   "metadata": {},
   "source": [
    "# Feature Engineering\n",
    "\n",
    "From our explorations we will derive 8 features for our churn prediction model:"
   ]
  },
  {
   "cell_type": "code",
   "execution_count": 37,
   "metadata": {},
   "outputs": [],
   "source": [
    "# Number of thumbs up\n",
    "f1_thumbs_up = users_not_empty.select('userID','page').where(users_not_empty.page == 'Thumbs Up').groupBy('userID').agg(count('page').alias('n_thumb_up'))\n",
    "\n",
    "# Number of thumbs down\n",
    "f2_thumbs_down = users_not_empty.select('userID','page').where(users_not_empty.page == 'Thumbs Down').groupBy('userID').agg(count('page').alias('n_thumb_down'))\n",
    "\n",
    "# Number of adds to playlist\n",
    "f3_adds_to_playlist = users_not_empty.select('userID','page').where(users_not_empty.page == 'Add to Playlist').groupBy('userID').agg(count('page').alias('adds_to_playlist'))\n",
    "\n",
    "# Number of adds to friends\n",
    "f4_adds_to_friend = users_not_empty.select('userID','page').where(users_not_empty.page == 'Add Friend').groupBy('userID').agg(count('page').alias('n_friends_added'))\n",
    "\n",
    "# Number of Roll Adverts\n",
    "f5_adds_rolled = users_not_empty.select('userID','page').where(users_not_empty.page == 'Roll Advert').groupBy('userID').agg(count('page').alias('adverts_rolled'))\n",
    "\n",
    "# Number of Songs played\n",
    "f6_songs_played = users_not_empty.filter(users_not_empty['song'].isNotNull()).select('userId', 'song').groupBy('userID').agg(count('song').alias('songs_played'))\n",
    "\n",
    "# Time Spend\n",
    "f7_listen_time = users_not_empty.filter(users_not_empty['length'].isNotNull()).select('userId', 'length').groupBy('userID').agg(sum('length').alias('listen_time'))\n",
    "\n",
    "# Artists listened\n",
    "f8_artists_listened = users_not_empty.filter(users_not_empty.page == 'NextSong').select('userId', 'artist').dropDuplicates().groupBy('userID').agg(count('artist').alias('artists_listened'))"
   ]
  },
  {
   "cell_type": "code",
   "execution_count": 54,
   "metadata": {},
   "outputs": [],
   "source": [
    "#create churn_status col for the feature df. This is our target col:\n",
    "churn_status = users_not_empty.select('userId', col('user_churned').alias('label')).dropDuplicates()"
   ]
  },
  {
   "cell_type": "code",
   "execution_count": 63,
   "metadata": {},
   "outputs": [],
   "source": [
    "#joining all features and chi together:\n",
    "\n",
    "feature_df  = f1_thumbs_up.join(f2_thumbs_down, on=['userID'], how='outer') \\\n",
    "    .join(f3_adds_to_playlist, on=['userID'], how='outer') \\\n",
    "    .join(f4_adds_to_friend, on=['userID'], how='outer') \\\n",
    "    .join(f5_adds_rolled, on=['userID'], how='outer') \\\n",
    "    .join(f6_songs_played, on=['userID'], how='outer') \\\n",
    "    .join(f7_listen_time, on=['userID'], how='outer') \\\n",
    "    .join(f8_artists_listened, on=['userID'], how='outer') \\\n",
    "    .join(churn_status, on=['userID'], how='outer') \\\n",
    "    .drop('userID')"
   ]
  },
  {
   "cell_type": "code",
   "execution_count": 56,
   "metadata": {
    "scrolled": false
   },
   "outputs": [],
   "source": [
    "corr_check = feature_df.toPandas()"
   ]
  },
  {
   "cell_type": "code",
   "execution_count": 161,
   "metadata": {},
   "outputs": [
    {
     "data": {
      "text/plain": [
       "<matplotlib.axes._subplots.AxesSubplot at 0x7f450ef02518>"
      ]
     },
     "execution_count": 161,
     "metadata": {},
     "output_type": "execute_result"
    },
    {
     "data": {
      "image/png": "[encoded data removed]",
      "text/plain": [
       "<matplotlib.figure.Figure at 0x7f450ef84a20>"
      ]
     },
     "metadata": {
      "needs_background": "light"
     },
     "output_type": "display_data"
    }
   ],
   "source": [
    "#corrmap = plt.cm.inferno\n",
    "corr = corr_check.corr()\n",
    "mask = np.zeros_like(corr)\n",
    "mask[np.triu_indices_from(mask)] = True\n",
    "plt.figure(figsize=(15,12))\n",
    "plt.title('Correlation between all features', y=1.05, size=15)\n",
    "sns.heatmap(corr,linewidths=0.1,vmax=1.0, mask=mask,\n",
    "            square=True, cmap=plt.cm.inferno, linecolor='white', annot=True)"
   ]
  },
  {
   "cell_type": "code",
   "execution_count": 43,
   "metadata": {},
   "outputs": [
    {
     "name": "stdout",
     "output_type": "stream",
     "text": [
      "+----------+------------+----------------+---------------+--------------+------------+-----------+----------------+------------+\n",
      "|n_thumb_up|n_thumb_down|adds_to_playlist|n_friends_added|adverts_rolled|songs_played|listen_time|artists_listened|churn_status|\n",
      "+----------+------------+----------------+---------------+--------------+------------+-----------+----------------+------------+\n",
      "|         5|          22|              10|             19|            18|           0|          0|               0|           0|\n",
      "+----------+------------+----------------+---------------+--------------+------------+-----------+----------------+------------+\n",
      "\n"
     ]
    }
   ],
   "source": [
    "#check for number of null values in each column:\n",
    "\n",
    "feature_df.select([psqf.count(psqf.when(psqf.isnull(c), c)).alias(c) for c in feature_df.columns]).show()"
   ]
  },
  {
   "cell_type": "code",
   "execution_count": 64,
   "metadata": {},
   "outputs": [],
   "source": [
    "#a few features have missing values. We will fill them with 0's:\n",
    "feature_df = feature_df.fillna(0)"
   ]
  },
  {
   "cell_type": "markdown",
   "metadata": {},
   "source": [
    "#### Preparing data and to push to the model. We're going to use VectorAssembler which combines a given list of columns into a single vector column:"
   ]
  },
  {
   "cell_type": "code",
   "execution_count": 162,
   "metadata": {},
   "outputs": [],
   "source": [
    "features_col = ['n_thumb_up', \n",
    "               'n_thumb_down', \n",
    "               'adds_to_playlist', \n",
    "               'n_friends_added', \n",
    "               'adverts_rolled', \n",
    "               'songs_played',\n",
    "               'listen_time', \n",
    "               'artists_listened']"
   ]
  },
  {
   "cell_type": "code",
   "execution_count": 66,
   "metadata": {},
   "outputs": [],
   "source": [
    "#create VectorAssembler to push data to ML models\n",
    "assembler = VectorAssembler(inputCols=features_col, outputCol=\"input_Features\")\n",
    "feature_df = assembler.transform(feature_df)\n",
    "\n",
    "#Standardize features by removing the mean and scaling to unit variance\n",
    "scaler = StandardScaler(inputCol=\"input_Features\", outputCol=\"features\")\n",
    "scalerModel = scaler.fit(feature_df)\n",
    "feature_df = scalerModel.transform(feature_df)"
   ]
  },
  {
   "cell_type": "code",
   "execution_count": 209,
   "metadata": {},
   "outputs": [
    {
     "data": {
      "text/plain": [
       "Row(n_thumb_up=17, n_thumb_down=5, adds_to_playlist=7, n_friends_added=4, adverts_rolled=52, songs_played=275, listen_time=66940.89735000003, artists_listened=252, label=0, input_Features=DenseVector([17.0, 5.0, 7.0, 4.0, 52.0, 275.0, 66940.8974, 252.0]), features=DenseVector([0.2596, 0.3823, 0.214, 0.1943, 2.413, 0.2489, 0.2431, 0.4173]))"
      ]
     },
     "execution_count": 209,
     "metadata": {},
     "output_type": "execute_result"
    }
   ],
   "source": [
    "feature_df.head()"
   ]
  },
  {
   "cell_type": "markdown",
   "metadata": {},
   "source": [
    "# Modeling\n",
    "Split the full dataset into train, test, and validation sets. Test out several of the machine learning methods you learned. Evaluate the accuracy of the various models, tuning parameters as necessary. Determine your winning model based on test accuracy and report results on the validation set. Since the churned users are a fairly small subset, I suggest using F1 score as the metric to optimize."
   ]
  },
  {
   "cell_type": "code",
   "execution_count": 68,
   "metadata": {},
   "outputs": [],
   "source": [
    "train, test = feature_df.select('label', 'features').randomSplit([0.9, 0.1], seed=1)"
   ]
  },
  {
   "cell_type": "code",
   "execution_count": 69,
   "metadata": {},
   "outputs": [],
   "source": [
    "#F1 score was already suggested as the optimization metric. \n",
    "#F1 is the main metric taken into consideration since it has all true positive, \n",
    "#true negative, false positive, false negative taken into consideration and as such is a\n",
    "#more balanced metric.\n",
    "#As about 75% of the users are active our datasets are unbalaned and thus \n",
    "#we will follow this suggestion:\n",
    "\n",
    "f1_evaluation = MulticlassClassificationEvaluator(metricName='f1')"
   ]
  },
  {
   "cell_type": "markdown",
   "metadata": {},
   "source": [
    "#### Applying logistic regression model"
   ]
  },
  {
   "cell_type": "code",
   "execution_count": 71,
   "metadata": {},
   "outputs": [],
   "source": [
    "#fitting logistic regression model\n",
    "logreg = LogisticRegression(maxIter=10)\n",
    "\n",
    "#Defining the gridsearch parameters:\n",
    "paramGrid = ParamGridBuilder() \\\n",
    "    .addGrid(logreg.elasticNetParam,[0.0, 0.1, 0.5, 1.0]) \\\n",
    "    .addGrid(logreg.regParam,[0.0, 0.05, 0.1]) \\\n",
    "    .build()\n",
    "\n",
    "#Defining cross validation parameters:\n",
    "cv = CrossValidator(estimator=logreg,\n",
    "                          estimatorParamMaps=paramGrid,\n",
    "                          evaluator=f1_evaluation,\n",
    "                          numFolds=3)"
   ]
  },
  {
   "cell_type": "code",
   "execution_count": 72,
   "metadata": {},
   "outputs": [],
   "source": [
    "cvModel_lr = cv.fit(train)"
   ]
  },
  {
   "cell_type": "code",
   "execution_count": 73,
   "metadata": {},
   "outputs": [
    {
     "data": {
      "text/plain": [
       "[0.6635906851082103,\n",
       " 0.6672828709687605,\n",
       " 0.6695012765791798,\n",
       " 0.6635906851082103,\n",
       " 0.6695012765791798,\n",
       " 0.6695012765791798,\n",
       " 0.6635906851082103,\n",
       " 0.6695012765791798,\n",
       " 0.6695012765791798,\n",
       " 0.6635906851082103,\n",
       " 0.6695012765791798,\n",
       " 0.6695012765791798]"
      ]
     },
     "execution_count": 73,
     "metadata": {},
     "output_type": "execute_result"
    }
   ],
   "source": [
    "cvModel_lr.avgMetrics"
   ]
  },
  {
   "cell_type": "markdown",
   "metadata": {},
   "source": [
    "#### Applying random forest model"
   ]
  },
  {
   "cell_type": "code",
   "execution_count": 81,
   "metadata": {},
   "outputs": [],
   "source": [
    "#fitting random forest model\n",
    "ranforest = RandomForestClassifier()\n",
    "\n",
    "#Defining the gridsearch parameters:\n",
    "paramGrid_ranforest = ParamGridBuilder()\\\n",
    "    .addGrid(ranforest.impurity,['entropy', 'gini']) \\\n",
    "    .addGrid(ranforest.maxDepth,[2, 4, 6, 8]) \\\n",
    "    .build()\n",
    "\n",
    "#Defining cross validation parameters:\n",
    "cv_rf = CrossValidator(estimator=ranforest,\n",
    "                          estimatorParamMaps=paramGrid_ranforest,\n",
    "                          evaluator=f1_evaluation,\n",
    "                          numFolds=3)"
   ]
  },
  {
   "cell_type": "code",
   "execution_count": 80,
   "metadata": {},
   "outputs": [
    {
     "name": "stderr",
     "output_type": "stream",
     "text": [
      "Exception ignored in: <object repr() failed>\n",
      "Traceback (most recent call last):\n",
      "  File \"/opt/spark-2.4.3-bin-hadoop2.7/python/pyspark/ml/wrapper.py\", line 40, in __del__\n",
      "    if SparkContext._active_spark_context and self._java_obj is not None:\n",
      "AttributeError: 'RandomForestClassifier' object has no attribute '_java_obj'\n"
     ]
    }
   ],
   "source": [
    "cvModel_rf = cv_rf.fit(train)"
   ]
  },
  {
   "cell_type": "code",
   "execution_count": 82,
   "metadata": {},
   "outputs": [
    {
     "data": {
      "text/plain": [
       "[0.6695012765791798,\n",
       " 0.6684967676898427,\n",
       " 0.6790035507239215,\n",
       " 0.6673572647424711,\n",
       " 0.6695012765791798,\n",
       " 0.6891493043656793,\n",
       " 0.6920420143254228,\n",
       " 0.6947461594253045]"
      ]
     },
     "execution_count": 82,
     "metadata": {},
     "output_type": "execute_result"
    }
   ],
   "source": [
    "cvModel_rf.avgMetrics"
   ]
  },
  {
   "cell_type": "markdown",
   "metadata": {},
   "source": [
    "#### Evaluating the models:"
   ]
  },
  {
   "cell_type": "code",
   "execution_count": 83,
   "metadata": {},
   "outputs": [],
   "source": [
    "predictions_lr = cvModel_lr.transform(test)\n",
    "predictions_rf = cvModel_rf.transform(test)"
   ]
  },
  {
   "cell_type": "code",
   "execution_count": 84,
   "metadata": {},
   "outputs": [
    {
     "name": "stdout",
     "output_type": "stream",
     "text": [
      "[[ 14.   0.]\n",
      " [  5.   0.]]\n"
     ]
    }
   ],
   "source": [
    "#info taken from: https://stackoverflow.com/questions/58404845/confusion-matrix-to-get-precsion-recall-f1score\n",
    "\n",
    "#important: need to cast to float type, and order by prediction, else it won't work\n",
    "preds_and_labels_lr = predictions_lr.select(['prediction','label'])\n",
    "\n",
    "#select only prediction and label columns\n",
    "preds_and_labels_lr = preds_and_labels_lr.withColumn('label', col('label').cast(FloatType())).orderBy('prediction')\n",
    "\n",
    "metrics_lr = MulticlassMetrics(preds_and_labels_lr.rdd.map(tuple))\n",
    "\n",
    "print(metrics_lr.confusionMatrix().toArray())"
   ]
  },
  {
   "cell_type": "code",
   "execution_count": 169,
   "metadata": {},
   "outputs": [
    {
     "data": {
      "text/plain": [
       "array([[ 14.,   0.],\n",
       "       [  5.,   0.]])"
      ]
     },
     "execution_count": 169,
     "metadata": {},
     "output_type": "execute_result"
    }
   ],
   "source": [
    "metrics_lr.confusionMatrix().toArray()"
   ]
  },
  {
   "cell_type": "code",
   "execution_count": 85,
   "metadata": {},
   "outputs": [
    {
     "data": {
      "text/plain": [
       "0.7368421052631579"
      ]
     },
     "execution_count": 85,
     "metadata": {},
     "output_type": "execute_result"
    }
   ],
   "source": [
    "metrics_lr.accuracy"
   ]
  },
  {
   "cell_type": "code",
   "execution_count": 86,
   "metadata": {},
   "outputs": [
    {
     "name": "stdout",
     "output_type": "stream",
     "text": [
      "[[ 14.   0.]\n",
      " [  4.   1.]]\n"
     ]
    }
   ],
   "source": [
    "# from: https://stackoverflow.com/questions/58404845/confusion-matrix-to-get-precsion-recall-f1score\n",
    "\n",
    "#important: need to cast to float type, and order by prediction, else it won't work\n",
    "preds_and_labels_rf = predictions_rf.select(['prediction','label'])\n",
    "\n",
    "#select only prediction and label columns\n",
    "preds_and_labels_rf = preds_and_labels_rf.withColumn('label', col('label').cast(FloatType())).orderBy('prediction')\n",
    "\n",
    "metrics_rf = MulticlassMetrics(preds_and_labels_rf.rdd.map(tuple))\n",
    "\n",
    "print(metrics_rf.confusionMatrix().toArray())"
   ]
  },
  {
   "cell_type": "code",
   "execution_count": 120,
   "metadata": {},
   "outputs": [
    {
     "data": {
      "text/plain": [
       "0.7894736842105263"
      ]
     },
     "execution_count": 120,
     "metadata": {},
     "output_type": "execute_result"
    }
   ],
   "source": [
    "metrics_rf.accuracy"
   ]
  },
  {
   "cell_type": "markdown",
   "metadata": {},
   "source": [
    "Model evaluation:\n",
    "\n",
    "1. The accuracy of both models is similar\n",
    "2. Random Forest has slightly better f1 score\n",
    "3. Analyzing the evaluation matrics, we see that logistic regression only predicts active customers (for this small set of test data)\n",
    "4. For Sparkify this is important because false positive cost more than false negative (users churn which were not expected to churn)\n",
    "5. Random Forest will therefore be used for  further analysis"
   ]
  },
  {
   "cell_type": "markdown",
   "metadata": {},
   "source": [
    "#### Checking for feature importance of ..."
   ]
  },
  {
   "cell_type": "code",
   "execution_count": 157,
   "metadata": {},
   "outputs": [
    {
     "data": {
      "text/plain": [
       "array([ 0.15299807,  0.17219839,  0.09345736,  0.11250715,  0.21146079,\n",
       "        0.10205893,  0.09556326,  0.05975605])"
      ]
     },
     "execution_count": 157,
     "metadata": {},
     "output_type": "execute_result"
    }
   ],
   "source": [
    "importance = cvModel_rf.bestModel.featureImportances.values\n",
    "importance"
   ]
  },
  {
   "cell_type": "code",
   "execution_count": 160,
   "metadata": {},
   "outputs": [
    {
     "data": {
      "text/plain": [
       "Text(0.5,1,'Random Forest feature importances')"
      ]
     },
     "execution_count": 160,
     "metadata": {},
     "output_type": "execute_result"
    },
    {
     "data": {
      "image/png": "[encoded data removed]",
      "text/plain": [
       "<matplotlib.figure.Figure at 0x7f450f1f10f0>"
      ]
     },
     "metadata": {
      "needs_background": "light"
     },
     "output_type": "display_data"
    }
   ],
   "source": [
    "y_pos = np.arange(len(importance))\n",
    "\n",
    "plt.barh(y_pos, importance, align='center')\n",
    "plt.yticks(y_pos, ['n_thumb_up', \n",
    "                   'n_thumb_down', \n",
    "                   'adds_to_playlist', \n",
    "                   'n_friends_added', \n",
    "                   'adverts_rolled', \n",
    "                   'songs_played',\n",
    "                   'listen_time', \n",
    "                   'artists_listened'])\n",
    "plt.xlabel('Feature Importance')\n",
    "plt.title('Random Forest feature importances')"
   ]
  },
  {
   "cell_type": "markdown",
   "metadata": {},
   "source": [
    "# Final Steps\n",
    "Clean up your code, adding comments and renaming variables to make the code easier to read and maintain. Refer to the Spark Project Overview page and Data Scientist Capstone Project Rubric to make sure you are including all components of the capstone project and meet all expectations. Remember, this includes thorough documentation in a README file in a Github repository, as well as a web app or blog post."
   ]
  }
 ],
 "metadata": {
  "kernelspec": {
   "display_name": "Python 3",
   "language": "python",
   "name": "python3"
  },
  "language_info": {
   "codemirror_mode": {
    "name": "ipython",
    "version": 3
   },
   "file_extension": ".py",
   "mimetype": "text/x-python",
   "name": "python",
   "nbconvert_exporter": "python",
   "pygments_lexer": "ipython3",
   "version": "3.6.3"
  }
 },
 "nbformat": 4,
 "nbformat_minor": 2
}
